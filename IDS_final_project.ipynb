{
  "nbformat": 4,
  "nbformat_minor": 0,
  "metadata": {
    "colab": {
      "provenance": []
    },
    "kernelspec": {
      "name": "python3",
      "display_name": "Python 3"
    },
    "language_info": {
      "name": "python"
    }
  },
  "cells": [
    {
      "cell_type": "markdown",
      "source": [
        "# Project Description ⛳\n",
        "<hr>\n",
        "\n",
        "**Your final project will involve all topics covered from Week 2 to 8 by using data to solve a real-life problem. Remember you're doing this with your team**.\n",
        "\n",
        "You’ve learned a ton about data collection and cleaning, visualization and insight, machine leearning, and model evaluation in this course. The final project is your chance to solve a problem with these from scratch.\n",
        "\n",
        "\n",
        "`Use the rubric below as a guideline for your project as this will be used in grading your submissions`."
      ],
      "metadata": {
        "id": "oNssL9U4ldo1"
      }
    },
    {
      "cell_type": "markdown",
      "source": [
        "# Data cleaning & preprocessing\n",
        "\n",
        "- Demonstrate clear understanding of different data cleaning and preprocessing techniques by applying them to your dataset.\n",
        "- Clearly document (within the notebook) all cleaning and preprocessing steps."
      ],
      "metadata": {
        "id": "Hrx5R7uVjevj"
      }
    },
    {
      "cell_type": "code",
      "execution_count": null,
      "metadata": {
        "id": "oRIdTZDOKWa2"
      },
      "outputs": [],
      "source": []
    },
    {
      "cell_type": "markdown",
      "source": [
        "# Exploratory Data Analysis\n",
        "- Apply both measure of central tendency and dispersion to understand the data.\n",
        "- Perform corellation analysis of the dependent and independent variables\n",
        "- What does the corellation analysis says about the dependent and independent variables"
      ],
      "metadata": {
        "id": "Mc_79H2OjxQZ"
      }
    },
    {
      "cell_type": "code",
      "source": [],
      "metadata": {
        "id": "faZkxe0ckHCC"
      },
      "execution_count": null,
      "outputs": []
    },
    {
      "cell_type": "markdown",
      "source": [
        "# Data Visualization & Insight\n",
        "- Use at least 5 different visuals to tell a story about the data\n",
        "- Clearly document (within the notebook) 5 different insights you gained from the data"
      ],
      "metadata": {
        "id": "HlGMQOqmkHkI"
      }
    },
    {
      "cell_type": "code",
      "source": [],
      "metadata": {
        "id": "9JrNcTaqkaU3"
      },
      "execution_count": null,
      "outputs": []
    },
    {
      "cell_type": "markdown",
      "source": [
        "# Feature Engineering\n",
        "- Convert categorical or non-numeric features into a numerical representation\n",
        "- Transform neccessary features using feature transformation techniques of your choice."
      ],
      "metadata": {
        "id": "aQoXyFnHka49"
      }
    },
    {
      "cell_type": "code",
      "source": [],
      "metadata": {
        "id": "Mr2HAzbBknk_"
      },
      "execution_count": null,
      "outputs": []
    },
    {
      "cell_type": "markdown",
      "source": [
        "# Machine Learning\n",
        "- Use 2 different ML algorithms to build a model using your preprocessed data.\n",
        "- Compare the 2 models based on their accuracy."
      ],
      "metadata": {
        "id": "oO41dtK2koFf"
      }
    },
    {
      "cell_type": "code",
      "source": [],
      "metadata": {
        "id": "roGFUuprk3JQ"
      },
      "execution_count": null,
      "outputs": []
    },
    {
      "cell_type": "markdown",
      "source": [
        "# Model Evaluation\n",
        "- Evaluate the 2 models using a minimum of 4 evaluation metrics"
      ],
      "metadata": {
        "id": "xQAC-paZk3mA"
      }
    },
    {
      "cell_type": "code",
      "source": [],
      "metadata": {
        "id": "1Uq1CBcelAKR"
      },
      "execution_count": null,
      "outputs": []
    },
    {
      "cell_type": "markdown",
      "source": [
        "# Deployment\n",
        "- Able to deploy the ML model to cloud.\n",
        "- Provides a live working URL to the deployed app."
      ],
      "metadata": {
        "id": "FEazQftYlAio"
      }
    },
    {
      "cell_type": "code",
      "source": [],
      "metadata": {
        "id": "1lFeLUyNlQE_"
      },
      "execution_count": null,
      "outputs": []
    }
  ]
}
